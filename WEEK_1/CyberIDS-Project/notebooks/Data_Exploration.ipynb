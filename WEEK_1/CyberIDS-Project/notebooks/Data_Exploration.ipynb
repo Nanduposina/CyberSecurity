{
 "cells": [
  {
   "cell_type": "code",
   "execution_count": null,
   "id": "43b0c364-363d-4b34-a0f7-3e67bc3db430",
   "metadata": {},
   "outputs": [
    {
     "name": "stdout",
     "output_type": "stream",
     "text": [
      "✅ Data cleaning complete! Cleaned dataset saved as 'cleaned_data.csv'.\n"
     ]
    }
   ],
   "source": [
    "import pandas as pd\n",
    "import numpy as np\n",
    "from sklearn.preprocessing import LabelEncoder, MinMaxScaler\n",
    "\n",
    "# Load dataset\n",
    "file_path =  r\"C:\\Users\\nandu\\Downloads\\02-14-2018.csv\\raw.csv\"\n",
    "df = pd.read_csv(file_path)\n",
    "\n",
    "# Strip spaces from column names\n",
    "df.columns = df.columns.str.strip()\n",
    "\n",
    "# Drop identifier fields (adjust as needed)\n",
    "identifier_columns = [\"Flow ID\", \" Source IP\", \" Destination IP\", \" Timestamp\"]\n",
    "df = df.drop(columns=[col for col in identifier_columns if col in df.columns], errors='ignore')\n",
    "\n",
    "# Handle missing values: fill NaN with median or drop if excessive\n",
    "df = df.fillna(df.median(numeric_only=True))\n",
    "\n",
    "# Handle infinity values\n",
    "df = df.replace([np.inf, -np.inf], np.nan).dropna()\n",
    "\n",
    "# Encode 'Label' column (Binary: Benign vs Attack)\n",
    "if 'Label' in df.columns:\n",
    "    df['Label'] = df['Label'].apply(lambda x: 1 if x.lower() != \"benign\" else 0)  # 1 = Attack, 0 = Benign\n",
    "else:\n",
    "    print(\"Warning: 'Label' column not found!\")\n",
    "\n",
    "# Normalize numerical features (Optional)\n",
    "numerical_cols = df.select_dtypes(include=['int64', 'float64']).columns\n",
    "scaler = MinMaxScaler()\n",
    "df[numerical_cols] = scaler.fit_transform(df[numerical_cols])\n",
    "\n",
    "# Save cleaned dataset\n",
    "cleaned_file_path = \"cleaned_data.csv\"\n",
    "df.to_csv(cleaned_file_path, index=False)\n",
    "\n",
    "print(f\"✅ Data cleaning complete! Cleaned dataset saved as '{cleaned_file_path}'.\")\n",
    "\n",
    "\n"
   ]
  },
  {
   "cell_type": "code",
   "execution_count": null,
   "id": "a1163d56-3cf6-4e50-bc16-995477a20fdc",
   "metadata": {},
   "outputs": [],
   "source": []
  }
 ],
 "metadata": {
  "kernelspec": {
   "display_name": "Python 3 (ipykernel)",
   "language": "python",
   "name": "python3"
  },
  "language_info": {
   "codemirror_mode": {
    "name": "ipython",
    "version": 3
   },
   "file_extension": ".py",
   "mimetype": "text/x-python",
   "name": "python",
   "nbconvert_exporter": "python",
   "pygments_lexer": "ipython3",
   "version": "3.12.6"
  }
 },
 "nbformat": 4,
 "nbformat_minor": 5
}
